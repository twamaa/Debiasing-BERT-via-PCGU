{
  "nbformat": 4,
  "nbformat_minor": 0,
  "metadata": {
    "colab": {
      "provenance": [],
      "gpuType": "T4"
    },
    "kernelspec": {
      "name": "python3",
      "display_name": "Python 3"
    },
    "language_info": {
      "name": "python"
    },
    "accelerator": "GPU"
  },
  "cells": [
    {
      "cell_type": "code",
      "execution_count": 4,
      "metadata": {
        "colab": {
          "base_uri": "https://localhost:8080/"
        },
        "id": "L6_vEWjx73ha",
        "outputId": "b5160de0-f4a7-4482-99e2-c8857dda010c"
      },
      "outputs": [
        {
          "output_type": "stream",
          "name": "stdout",
          "text": [
            "Drive already mounted at /content/drive; to attempt to forcibly remount, call drive.mount(\"/content/drive\", force_remount=True).\n"
          ]
        }
      ],
      "source": [
        "from google.colab import drive\n",
        "drive.mount('/content/drive')"
      ]
    },
    {
      "cell_type": "code",
      "source": [
        "import pandas as pd\n",
        "\n",
        "# Load the data\n",
        "file_path = '/content/drive/MyDrive/DA_Lab/all_sentences.tsv'  # adjust path\n",
        "df = pd.read_csv(file_path, sep='\\t')\n",
        "\n",
        "# Check again\n",
        "print(df.head())\n",
        "print(df.columns)\n"
      ],
      "metadata": {
        "colab": {
          "base_uri": "https://localhost:8080/"
        },
        "id": "Ay4AndEi0TWb",
        "outputId": "008d6b94-5df7-4859-ffdc-5666a13c312f"
      },
      "execution_count": 5,
      "outputs": [
        {
          "output_type": "stream",
          "name": "stdout",
          "text": [
            "                              sentid  \\\n",
            "0     technician.customer.1.male.txt   \n",
            "1   technician.customer.1.female.txt   \n",
            "2  technician.customer.1.neutral.txt   \n",
            "3      technician.someone.1.male.txt   \n",
            "4    technician.someone.1.female.txt   \n",
            "\n",
            "                                            sentence  \n",
            "0  The technician told the customer that he could...  \n",
            "1  The technician told the customer that she coul...  \n",
            "2  The technician told the customer that they cou...  \n",
            "3  The technician told someone that he could pay ...  \n",
            "4  The technician told someone that she could pay...  \n",
            "Index(['sentid', 'sentence'], dtype='object')\n"
          ]
        }
      ]
    },
    {
      "cell_type": "code",
      "source": [
        "\n",
        "def parse_sentid(s):\n",
        "    parts = s.replace('.txt', '').split('.')\n",
        "    if len(parts) == 4:\n",
        "        return {\n",
        "            'role': parts[0],\n",
        "            'target': parts[1],\n",
        "            'group_id': int(parts[2]),\n",
        "            'gender': parts[3]\n",
        "        }\n",
        "    else:\n",
        "        return {\n",
        "            'role': None,\n",
        "            'target': None,\n",
        "            'group_id': None,\n",
        "            'gender': None\n",
        "        }\n",
        "\n",
        "# Apply parsing to each row\n",
        "parsed_info = df['sentid'].apply(parse_sentid).apply(pd.Series)\n",
        "\n",
        "# Concatenate with original DataFrame\n",
        "df = pd.concat([df, parsed_info], axis=1)\n",
        "\n",
        "# Show results\n",
        "print(df.head())\n",
        "\n"
      ],
      "metadata": {
        "colab": {
          "base_uri": "https://localhost:8080/"
        },
        "id": "8EOiptvU9KKR",
        "outputId": "447e2dec-7c27-443d-adeb-8c21c68be9fb"
      },
      "execution_count": 6,
      "outputs": [
        {
          "output_type": "stream",
          "name": "stdout",
          "text": [
            "                              sentid  \\\n",
            "0     technician.customer.1.male.txt   \n",
            "1   technician.customer.1.female.txt   \n",
            "2  technician.customer.1.neutral.txt   \n",
            "3      technician.someone.1.male.txt   \n",
            "4    technician.someone.1.female.txt   \n",
            "\n",
            "                                            sentence        role    target  \\\n",
            "0  The technician told the customer that he could...  technician  customer   \n",
            "1  The technician told the customer that she coul...  technician  customer   \n",
            "2  The technician told the customer that they cou...  technician  customer   \n",
            "3  The technician told someone that he could pay ...  technician   someone   \n",
            "4  The technician told someone that she could pay...  technician   someone   \n",
            "\n",
            "   group_id   gender  \n",
            "0         1     male  \n",
            "1         1   female  \n",
            "2         1  neutral  \n",
            "3         1     male  \n",
            "4         1   female  \n"
          ]
        }
      ]
    },
    {
      "cell_type": "code",
      "source": [
        "print(\"Unique values in gender column:\")\n",
        "print(df['gender'].unique())\n",
        "\n",
        "print(\"\\nNumber of sentences per group_id:\")\n",
        "print(df['group_id'].value_counts().head(10))\n"
      ],
      "metadata": {
        "colab": {
          "base_uri": "https://localhost:8080/"
        },
        "id": "pScXrRgk01Bj",
        "outputId": "7cea53fc-80db-4b52-8617-ed6e51c31c8e"
      },
      "execution_count": 7,
      "outputs": [
        {
          "output_type": "stream",
          "name": "stdout",
          "text": [
            "Unique values in gender column:\n",
            "['male' 'female' 'neutral']\n",
            "\n",
            "Number of sentences per group_id:\n",
            "group_id\n",
            "1    360\n",
            "0    360\n",
            "Name: count, dtype: int64\n"
          ]
        }
      ]
    },
    {
      "cell_type": "markdown",
      "source": [
        "##Group sentences into gender-based triplets"
      ],
      "metadata": {
        "id": "5bO0_H2l1ZNJ"
      }
    },
    {
      "cell_type": "code",
      "source": [
        "# Group sentences into triplets: one male, one female, one neutral\n",
        "from collections import defaultdict\n",
        "\n",
        "triplets = []\n",
        "\n",
        "# Group by role, target, and group_id\n",
        "grouped = df.groupby(['role', 'target', 'group_id'])\n",
        "\n",
        "for key, group in grouped:\n",
        "    genders_present = group['gender'].tolist()\n",
        "    if all(g in genders_present for g in ['male', 'female', 'neutral']):\n",
        "        try:\n",
        "            male_sent = group[group['gender'] == 'male']['sentence'].values[0]\n",
        "            female_sent = group[group['gender'] == 'female']['sentence'].values[0]\n",
        "            neutral_sent = group[group['gender'] == 'neutral']['sentence'].values[0]\n",
        "            triplets.append((male_sent, female_sent, neutral_sent))\n",
        "        except IndexError:\n",
        "            continue  # Skip incomplete entries\n",
        "\n",
        "# Convert to DataFrame for convenience\n",
        "triplet_df = pd.DataFrame(triplets, columns=['male', 'female', 'neutral'])\n",
        "\n",
        "print(f\" Total valid triplets collected: {len(triplet_df)}\")\n",
        "triplet_df.head()\n"
      ],
      "metadata": {
        "colab": {
          "base_uri": "https://localhost:8080/",
          "height": 223
        },
        "id": "vuskCPab1TNC",
        "outputId": "2a9c5033-448a-482e-970e-0891d05f7ae4"
      },
      "execution_count": 8,
      "outputs": [
        {
          "output_type": "stream",
          "name": "stdout",
          "text": [
            " Total valid triplets collected: 240\n"
          ]
        },
        {
          "output_type": "execute_result",
          "data": {
            "text/plain": [
              "                                                male  \\\n",
              "0  Someone met with the accountant to find out if...   \n",
              "1  Someone met with the accountant to get help fi...   \n",
              "2  The taxpayer met with the accountant to find o...   \n",
              "3  The taxpayer met with the accountant to get he...   \n",
              "4  Someone presented the administrator with a pet...   \n",
              "\n",
              "                                              female  \\\n",
              "0  Someone met with the accountant to find out if...   \n",
              "1  Someone met with the accountant to get help fi...   \n",
              "2  The taxpayer met with the accountant to find o...   \n",
              "3  The taxpayer met with the accountant to get he...   \n",
              "4  Someone presented the administrator with a pet...   \n",
              "\n",
              "                                             neutral  \n",
              "0  Someone met with the accountant to find out if...  \n",
              "1  Someone met with the accountant to get help fi...  \n",
              "2  The taxpayer met with the accountant to find o...  \n",
              "3  The taxpayer met with the accountant to get he...  \n",
              "4  Someone presented the administrator with a pet...  "
            ],
            "text/html": [
              "\n",
              "  <div id=\"df-e5543cc0-60ec-4c18-9b76-001ec1000cb8\" class=\"colab-df-container\">\n",
              "    <div>\n",
              "<style scoped>\n",
              "    .dataframe tbody tr th:only-of-type {\n",
              "        vertical-align: middle;\n",
              "    }\n",
              "\n",
              "    .dataframe tbody tr th {\n",
              "        vertical-align: top;\n",
              "    }\n",
              "\n",
              "    .dataframe thead th {\n",
              "        text-align: right;\n",
              "    }\n",
              "</style>\n",
              "<table border=\"1\" class=\"dataframe\">\n",
              "  <thead>\n",
              "    <tr style=\"text-align: right;\">\n",
              "      <th></th>\n",
              "      <th>male</th>\n",
              "      <th>female</th>\n",
              "      <th>neutral</th>\n",
              "    </tr>\n",
              "  </thead>\n",
              "  <tbody>\n",
              "    <tr>\n",
              "      <th>0</th>\n",
              "      <td>Someone met with the accountant to find out if...</td>\n",
              "      <td>Someone met with the accountant to find out if...</td>\n",
              "      <td>Someone met with the accountant to find out if...</td>\n",
              "    </tr>\n",
              "    <tr>\n",
              "      <th>1</th>\n",
              "      <td>Someone met with the accountant to get help fi...</td>\n",
              "      <td>Someone met with the accountant to get help fi...</td>\n",
              "      <td>Someone met with the accountant to get help fi...</td>\n",
              "    </tr>\n",
              "    <tr>\n",
              "      <th>2</th>\n",
              "      <td>The taxpayer met with the accountant to find o...</td>\n",
              "      <td>The taxpayer met with the accountant to find o...</td>\n",
              "      <td>The taxpayer met with the accountant to find o...</td>\n",
              "    </tr>\n",
              "    <tr>\n",
              "      <th>3</th>\n",
              "      <td>The taxpayer met with the accountant to get he...</td>\n",
              "      <td>The taxpayer met with the accountant to get he...</td>\n",
              "      <td>The taxpayer met with the accountant to get he...</td>\n",
              "    </tr>\n",
              "    <tr>\n",
              "      <th>4</th>\n",
              "      <td>Someone presented the administrator with a pet...</td>\n",
              "      <td>Someone presented the administrator with a pet...</td>\n",
              "      <td>Someone presented the administrator with a pet...</td>\n",
              "    </tr>\n",
              "  </tbody>\n",
              "</table>\n",
              "</div>\n",
              "    <div class=\"colab-df-buttons\">\n",
              "\n",
              "  <div class=\"colab-df-container\">\n",
              "    <button class=\"colab-df-convert\" onclick=\"convertToInteractive('df-e5543cc0-60ec-4c18-9b76-001ec1000cb8')\"\n",
              "            title=\"Convert this dataframe to an interactive table.\"\n",
              "            style=\"display:none;\">\n",
              "\n",
              "  <svg xmlns=\"http://www.w3.org/2000/svg\" height=\"24px\" viewBox=\"0 -960 960 960\">\n",
              "    <path d=\"M120-120v-720h720v720H120Zm60-500h600v-160H180v160Zm220 220h160v-160H400v160Zm0 220h160v-160H400v160ZM180-400h160v-160H180v160Zm440 0h160v-160H620v160ZM180-180h160v-160H180v160Zm440 0h160v-160H620v160Z\"/>\n",
              "  </svg>\n",
              "    </button>\n",
              "\n",
              "  <style>\n",
              "    .colab-df-container {\n",
              "      display:flex;\n",
              "      gap: 12px;\n",
              "    }\n",
              "\n",
              "    .colab-df-convert {\n",
              "      background-color: #E8F0FE;\n",
              "      border: none;\n",
              "      border-radius: 50%;\n",
              "      cursor: pointer;\n",
              "      display: none;\n",
              "      fill: #1967D2;\n",
              "      height: 32px;\n",
              "      padding: 0 0 0 0;\n",
              "      width: 32px;\n",
              "    }\n",
              "\n",
              "    .colab-df-convert:hover {\n",
              "      background-color: #E2EBFA;\n",
              "      box-shadow: 0px 1px 2px rgba(60, 64, 67, 0.3), 0px 1px 3px 1px rgba(60, 64, 67, 0.15);\n",
              "      fill: #174EA6;\n",
              "    }\n",
              "\n",
              "    .colab-df-buttons div {\n",
              "      margin-bottom: 4px;\n",
              "    }\n",
              "\n",
              "    [theme=dark] .colab-df-convert {\n",
              "      background-color: #3B4455;\n",
              "      fill: #D2E3FC;\n",
              "    }\n",
              "\n",
              "    [theme=dark] .colab-df-convert:hover {\n",
              "      background-color: #434B5C;\n",
              "      box-shadow: 0px 1px 3px 1px rgba(0, 0, 0, 0.15);\n",
              "      filter: drop-shadow(0px 1px 2px rgba(0, 0, 0, 0.3));\n",
              "      fill: #FFFFFF;\n",
              "    }\n",
              "  </style>\n",
              "\n",
              "    <script>\n",
              "      const buttonEl =\n",
              "        document.querySelector('#df-e5543cc0-60ec-4c18-9b76-001ec1000cb8 button.colab-df-convert');\n",
              "      buttonEl.style.display =\n",
              "        google.colab.kernel.accessAllowed ? 'block' : 'none';\n",
              "\n",
              "      async function convertToInteractive(key) {\n",
              "        const element = document.querySelector('#df-e5543cc0-60ec-4c18-9b76-001ec1000cb8');\n",
              "        const dataTable =\n",
              "          await google.colab.kernel.invokeFunction('convertToInteractive',\n",
              "                                                    [key], {});\n",
              "        if (!dataTable) return;\n",
              "\n",
              "        const docLinkHtml = 'Like what you see? Visit the ' +\n",
              "          '<a target=\"_blank\" href=https://colab.research.google.com/notebooks/data_table.ipynb>data table notebook</a>'\n",
              "          + ' to learn more about interactive tables.';\n",
              "        element.innerHTML = '';\n",
              "        dataTable['output_type'] = 'display_data';\n",
              "        await google.colab.output.renderOutput(dataTable, element);\n",
              "        const docLink = document.createElement('div');\n",
              "        docLink.innerHTML = docLinkHtml;\n",
              "        element.appendChild(docLink);\n",
              "      }\n",
              "    </script>\n",
              "  </div>\n",
              "\n",
              "\n",
              "    <div id=\"df-9d02cd7d-5547-4187-a09a-b6205c567e8e\">\n",
              "      <button class=\"colab-df-quickchart\" onclick=\"quickchart('df-9d02cd7d-5547-4187-a09a-b6205c567e8e')\"\n",
              "                title=\"Suggest charts\"\n",
              "                style=\"display:none;\">\n",
              "\n",
              "<svg xmlns=\"http://www.w3.org/2000/svg\" height=\"24px\"viewBox=\"0 0 24 24\"\n",
              "     width=\"24px\">\n",
              "    <g>\n",
              "        <path d=\"M19 3H5c-1.1 0-2 .9-2 2v14c0 1.1.9 2 2 2h14c1.1 0 2-.9 2-2V5c0-1.1-.9-2-2-2zM9 17H7v-7h2v7zm4 0h-2V7h2v10zm4 0h-2v-4h2v4z\"/>\n",
              "    </g>\n",
              "</svg>\n",
              "      </button>\n",
              "\n",
              "<style>\n",
              "  .colab-df-quickchart {\n",
              "      --bg-color: #E8F0FE;\n",
              "      --fill-color: #1967D2;\n",
              "      --hover-bg-color: #E2EBFA;\n",
              "      --hover-fill-color: #174EA6;\n",
              "      --disabled-fill-color: #AAA;\n",
              "      --disabled-bg-color: #DDD;\n",
              "  }\n",
              "\n",
              "  [theme=dark] .colab-df-quickchart {\n",
              "      --bg-color: #3B4455;\n",
              "      --fill-color: #D2E3FC;\n",
              "      --hover-bg-color: #434B5C;\n",
              "      --hover-fill-color: #FFFFFF;\n",
              "      --disabled-bg-color: #3B4455;\n",
              "      --disabled-fill-color: #666;\n",
              "  }\n",
              "\n",
              "  .colab-df-quickchart {\n",
              "    background-color: var(--bg-color);\n",
              "    border: none;\n",
              "    border-radius: 50%;\n",
              "    cursor: pointer;\n",
              "    display: none;\n",
              "    fill: var(--fill-color);\n",
              "    height: 32px;\n",
              "    padding: 0;\n",
              "    width: 32px;\n",
              "  }\n",
              "\n",
              "  .colab-df-quickchart:hover {\n",
              "    background-color: var(--hover-bg-color);\n",
              "    box-shadow: 0 1px 2px rgba(60, 64, 67, 0.3), 0 1px 3px 1px rgba(60, 64, 67, 0.15);\n",
              "    fill: var(--button-hover-fill-color);\n",
              "  }\n",
              "\n",
              "  .colab-df-quickchart-complete:disabled,\n",
              "  .colab-df-quickchart-complete:disabled:hover {\n",
              "    background-color: var(--disabled-bg-color);\n",
              "    fill: var(--disabled-fill-color);\n",
              "    box-shadow: none;\n",
              "  }\n",
              "\n",
              "  .colab-df-spinner {\n",
              "    border: 2px solid var(--fill-color);\n",
              "    border-color: transparent;\n",
              "    border-bottom-color: var(--fill-color);\n",
              "    animation:\n",
              "      spin 1s steps(1) infinite;\n",
              "  }\n",
              "\n",
              "  @keyframes spin {\n",
              "    0% {\n",
              "      border-color: transparent;\n",
              "      border-bottom-color: var(--fill-color);\n",
              "      border-left-color: var(--fill-color);\n",
              "    }\n",
              "    20% {\n",
              "      border-color: transparent;\n",
              "      border-left-color: var(--fill-color);\n",
              "      border-top-color: var(--fill-color);\n",
              "    }\n",
              "    30% {\n",
              "      border-color: transparent;\n",
              "      border-left-color: var(--fill-color);\n",
              "      border-top-color: var(--fill-color);\n",
              "      border-right-color: var(--fill-color);\n",
              "    }\n",
              "    40% {\n",
              "      border-color: transparent;\n",
              "      border-right-color: var(--fill-color);\n",
              "      border-top-color: var(--fill-color);\n",
              "    }\n",
              "    60% {\n",
              "      border-color: transparent;\n",
              "      border-right-color: var(--fill-color);\n",
              "    }\n",
              "    80% {\n",
              "      border-color: transparent;\n",
              "      border-right-color: var(--fill-color);\n",
              "      border-bottom-color: var(--fill-color);\n",
              "    }\n",
              "    90% {\n",
              "      border-color: transparent;\n",
              "      border-bottom-color: var(--fill-color);\n",
              "    }\n",
              "  }\n",
              "</style>\n",
              "\n",
              "      <script>\n",
              "        async function quickchart(key) {\n",
              "          const quickchartButtonEl =\n",
              "            document.querySelector('#' + key + ' button');\n",
              "          quickchartButtonEl.disabled = true;  // To prevent multiple clicks.\n",
              "          quickchartButtonEl.classList.add('colab-df-spinner');\n",
              "          try {\n",
              "            const charts = await google.colab.kernel.invokeFunction(\n",
              "                'suggestCharts', [key], {});\n",
              "          } catch (error) {\n",
              "            console.error('Error during call to suggestCharts:', error);\n",
              "          }\n",
              "          quickchartButtonEl.classList.remove('colab-df-spinner');\n",
              "          quickchartButtonEl.classList.add('colab-df-quickchart-complete');\n",
              "        }\n",
              "        (() => {\n",
              "          let quickchartButtonEl =\n",
              "            document.querySelector('#df-9d02cd7d-5547-4187-a09a-b6205c567e8e button');\n",
              "          quickchartButtonEl.style.display =\n",
              "            google.colab.kernel.accessAllowed ? 'block' : 'none';\n",
              "        })();\n",
              "      </script>\n",
              "    </div>\n",
              "\n",
              "    </div>\n",
              "  </div>\n"
            ],
            "application/vnd.google.colaboratory.intrinsic+json": {
              "type": "dataframe",
              "variable_name": "triplet_df",
              "summary": "{\n  \"name\": \"triplet_df\",\n  \"rows\": 240,\n  \"fields\": [\n    {\n      \"column\": \"male\",\n      \"properties\": {\n        \"dtype\": \"string\",\n        \"num_unique_values\": 240,\n        \"samples\": [\n          \"The customer ordered a chocolate cake from the baker even though he had bad reviews online.\",\n          \"The undergraduate presented the administrator with a petition that he had been unaware of.\",\n          \"The hairdresser recommended a new shampoo to the client because he wanted to try something different.\"\n        ],\n        \"semantic_type\": \"\",\n        \"description\": \"\"\n      }\n    },\n    {\n      \"column\": \"female\",\n      \"properties\": {\n        \"dtype\": \"string\",\n        \"num_unique_values\": 240,\n        \"samples\": [\n          \"The customer ordered a chocolate cake from the baker even though she had bad reviews online.\",\n          \"The undergraduate presented the administrator with a petition that she had been unaware of.\",\n          \"The hairdresser recommended a new shampoo to the client because she wanted to try something different.\"\n        ],\n        \"semantic_type\": \"\",\n        \"description\": \"\"\n      }\n    },\n    {\n      \"column\": \"neutral\",\n      \"properties\": {\n        \"dtype\": \"string\",\n        \"num_unique_values\": 240,\n        \"samples\": [\n          \"The customer ordered a chocolate cake from the baker even though they had bad reviews online.\",\n          \"The undergraduate presented the administrator with a petition that they had been unaware of.\",\n          \"The hairdresser recommended a new shampoo to the client because they wanted to try something different.\"\n        ],\n        \"semantic_type\": \"\",\n        \"description\": \"\"\n      }\n    }\n  ]\n}"
            }
          },
          "metadata": {},
          "execution_count": 8
        }
      ]
    },
    {
      "cell_type": "code",
      "source": [
        "!pip install transformers\n"
      ],
      "metadata": {
        "colab": {
          "base_uri": "https://localhost:8080/"
        },
        "id": "Z6QIeNLi2h7L",
        "outputId": "9cd92e49-7c84-43cf-a045-7097fc357949"
      },
      "execution_count": 9,
      "outputs": [
        {
          "output_type": "stream",
          "name": "stdout",
          "text": [
            "Requirement already satisfied: transformers in /usr/local/lib/python3.11/dist-packages (4.52.4)\n",
            "Requirement already satisfied: filelock in /usr/local/lib/python3.11/dist-packages (from transformers) (3.18.0)\n",
            "Requirement already satisfied: huggingface-hub<1.0,>=0.30.0 in /usr/local/lib/python3.11/dist-packages (from transformers) (0.32.4)\n",
            "Requirement already satisfied: numpy>=1.17 in /usr/local/lib/python3.11/dist-packages (from transformers) (2.0.2)\n",
            "Requirement already satisfied: packaging>=20.0 in /usr/local/lib/python3.11/dist-packages (from transformers) (24.2)\n",
            "Requirement already satisfied: pyyaml>=5.1 in /usr/local/lib/python3.11/dist-packages (from transformers) (6.0.2)\n",
            "Requirement already satisfied: regex!=2019.12.17 in /usr/local/lib/python3.11/dist-packages (from transformers) (2024.11.6)\n",
            "Requirement already satisfied: requests in /usr/local/lib/python3.11/dist-packages (from transformers) (2.32.3)\n",
            "Requirement already satisfied: tokenizers<0.22,>=0.21 in /usr/local/lib/python3.11/dist-packages (from transformers) (0.21.1)\n",
            "Requirement already satisfied: safetensors>=0.4.3 in /usr/local/lib/python3.11/dist-packages (from transformers) (0.5.3)\n",
            "Requirement already satisfied: tqdm>=4.27 in /usr/local/lib/python3.11/dist-packages (from transformers) (4.67.1)\n",
            "Requirement already satisfied: fsspec>=2023.5.0 in /usr/local/lib/python3.11/dist-packages (from huggingface-hub<1.0,>=0.30.0->transformers) (2025.3.2)\n",
            "Requirement already satisfied: typing-extensions>=3.7.4.3 in /usr/local/lib/python3.11/dist-packages (from huggingface-hub<1.0,>=0.30.0->transformers) (4.14.0)\n",
            "Requirement already satisfied: hf-xet<2.0.0,>=1.1.2 in /usr/local/lib/python3.11/dist-packages (from huggingface-hub<1.0,>=0.30.0->transformers) (1.1.2)\n",
            "Requirement already satisfied: charset-normalizer<4,>=2 in /usr/local/lib/python3.11/dist-packages (from requests->transformers) (3.4.2)\n",
            "Requirement already satisfied: idna<4,>=2.5 in /usr/local/lib/python3.11/dist-packages (from requests->transformers) (3.10)\n",
            "Requirement already satisfied: urllib3<3,>=1.21.1 in /usr/local/lib/python3.11/dist-packages (from requests->transformers) (2.4.0)\n",
            "Requirement already satisfied: certifi>=2017.4.17 in /usr/local/lib/python3.11/dist-packages (from requests->transformers) (2025.4.26)\n"
          ]
        }
      ]
    },
    {
      "cell_type": "code",
      "source": [
        "import sys\n",
        "sys.path.append(\"/usr/local/lib/python3.11/dist-packages\")\n"
      ],
      "metadata": {
        "id": "brwQySi828QZ"
      },
      "execution_count": 10,
      "outputs": []
    },
    {
      "cell_type": "code",
      "source": [
        "import torch\n",
        "from transformers import BertTokenizer, BertModel\n",
        "import torch.nn.functional as F\n",
        "\n",
        "# Ensure you have a GPU/CPU device setup\n",
        "device = torch.device(\"cuda\" if torch.cuda.is_available() else \"cpu\")\n",
        "\n",
        "# Load tokenizer and model\n",
        "tokenizer = BertTokenizer.from_pretrained('bert-base-uncased')\n",
        "bert_model = BertModel.from_pretrained('bert-base-uncased').to(device)\n",
        "bert_model.eval()\n",
        "\n",
        "# Extract sentences (assuming your `triplet_df` is ready)\n",
        "male_sentences = triplet_df['male'].tolist()\n",
        "female_sentences = triplet_df['female'].tolist()\n",
        "neutral_sentences = triplet_df['neutral'].tolist()\n",
        "\n",
        "# Tokenize all three sets\n",
        "def tokenize_batch(sentences):\n",
        "    return tokenizer(\n",
        "        sentences,\n",
        "        return_tensors='pt',\n",
        "        padding=True,\n",
        "        truncation=True,\n",
        "        max_length=128\n",
        "    ).to(device)\n",
        "\n",
        "encoded_male = tokenize_batch(male_sentences)\n",
        "encoded_female = tokenize_batch(female_sentences)\n",
        "encoded_neutral = tokenize_batch(neutral_sentences)\n",
        "\n",
        "# Forward pass\n",
        "with torch.no_grad():\n",
        "    male_embs = bert_model(**encoded_male).last_hidden_state[:, 0, :]\n",
        "    female_embs = bert_model(**encoded_female).last_hidden_state[:, 0, :]\n",
        "    neutral_embs = bert_model(**encoded_neutral).last_hidden_state[:, 0, :]\n",
        "\n",
        "# Compute cosine similarity\n",
        "cos_sim_mf = F.cosine_similarity(male_embs, female_embs, dim=1)\n",
        "cos_sim_mn = F.cosine_similarity(male_embs, neutral_embs, dim=1)\n",
        "cos_sim_fn = F.cosine_similarity(female_embs, neutral_embs, dim=1)\n",
        "\n",
        "# Contrastive loss\n",
        "loss_mf = 1 - cos_sim_mf            # want male and female close (loss low)\n",
        "loss_mn = cos_sim_mn                # want male and neutral far (loss high)\n",
        "loss_fn = cos_sim_fn                # want female and neutral far (loss high)\n",
        "\n",
        "# Combine\n",
        "contrastive_loss = loss_mf.mean() + loss_mn.mean() + loss_fn.mean()\n",
        "\n",
        "# Print\n",
        "print(f\"Contrastive Loss (avg over triplets): {contrastive_loss.item():.6f}\")\n"
      ],
      "metadata": {
        "colab": {
          "base_uri": "https://localhost:8080/"
        },
        "id": "QLv79wzo5Tk0",
        "outputId": "bdbee25a-649d-4ff8-d70e-c46c42841af3"
      },
      "execution_count": 11,
      "outputs": [
        {
          "output_type": "stream",
          "name": "stdout",
          "text": [
            "Contrastive Loss (avg over triplets): 1.995390\n"
          ]
        }
      ]
    },
    {
      "cell_type": "code",
      "source": [
        "tokenized_triplets = []\n",
        "\n",
        "for i in range(len(triplet_df)):\n",
        "    male = triplet_df.iloc[i]['male']\n",
        "    female = triplet_df.iloc[i]['female']\n",
        "    neutral = triplet_df.iloc[i]['neutral']\n",
        "\n",
        "    # Tokenize sentence pairs\n",
        "    male_female = tokenizer(male, female, return_tensors='pt', padding=True, truncation=True, max_length=128)\n",
        "    male_neutral = tokenizer(male, neutral, return_tensors='pt', padding=True, truncation=True, max_length=128)\n",
        "    female_neutral = tokenizer(female, neutral, return_tensors='pt', padding=True, truncation=True, max_length=128)\n",
        "\n",
        "    tokenized_triplets.append({\n",
        "        'male_female': male_female,\n",
        "        'male_neutral': male_neutral,\n",
        "        'female_neutral': female_neutral\n",
        "    })\n"
      ],
      "metadata": {
        "id": "o0rpRKxWJwhd"
      },
      "execution_count": 12,
      "outputs": []
    },
    {
      "cell_type": "code",
      "source": [
        "import torch\n",
        "from collections import defaultdict\n",
        "\n",
        "# Set model to train mode to track gradients\n",
        "bert_model.train()\n",
        "\n",
        "# Reset gradients\n",
        "bert_model.zero_grad()\n",
        "\n",
        "# Store gradient norms\n",
        "layer_gradients = defaultdict(float)\n",
        "num_triplets_used = 0\n",
        "\n",
        "for triplet in tokenized_triplets:\n",
        "    inputs_mf = {k: v.to(device) for k, v in triplet['male_female'].items()}\n",
        "    inputs_mn = {k: v.to(device) for k, v in triplet['male_neutral'].items()}\n",
        "    inputs_fn = {k: v.to(device) for k, v in triplet['female_neutral'].items()}\n",
        "\n",
        "    # Forward pass\n",
        "    emb_mf = bert_model(**inputs_mf).pooler_output\n",
        "    emb_mn = bert_model(**inputs_mn).pooler_output\n",
        "    emb_fn = bert_model(**inputs_fn).pooler_output\n",
        "\n",
        "    # Compute cosine distances\n",
        "    dist_mf = 1 - torch.nn.functional.cosine_similarity(emb_mf, emb_mf, dim=1)\n",
        "    dist_mn = 1 - torch.nn.functional.cosine_similarity(emb_mf, emb_mn, dim=1)\n",
        "    dist_fn = 1 - torch.nn.functional.cosine_similarity(emb_fn, emb_mn, dim=1)\n",
        "\n",
        "    # Triplet contrastive loss: encourage male-female to be closer than neutral\n",
        "    loss = dist_mf.mean() - 0.5 * (dist_mn.mean() + dist_fn.mean())\n",
        "\n",
        "    # Backward pass\n",
        "    loss.backward()\n",
        "\n",
        "    num_triplets_used += 1\n",
        "    if num_triplets_used >= 50:  # limit for speed\n",
        "        break\n",
        "\n",
        "# Extract gradient norms\n",
        "for name, param in bert_model.named_parameters():\n",
        "    if param.grad is not None and 'encoder.layer' in name:\n",
        "        layer_name = '.'.join(name.split('.')[:3])  # e.g., encoder.layer.11\n",
        "        layer_gradients[layer_name] += param.grad.norm().item()\n",
        "\n",
        "# Sort layers by gradient norm\n",
        "sorted_grads = sorted(layer_gradients.items(), key=lambda x: x[1], reverse=True)\n",
        "\n",
        "print(\"\\nTop layers by gradient norm:\")\n",
        "for name, norm in sorted_grads[:5]:\n",
        "    print(f\"{name:<20} Gradient Norm: {norm:.6f}\")\n"
      ],
      "metadata": {
        "colab": {
          "base_uri": "https://localhost:8080/"
        },
        "id": "XQq2x8dX_a6V",
        "outputId": "ff70c6d8-9255-4566-d114-63b88effe503"
      },
      "execution_count": 13,
      "outputs": [
        {
          "output_type": "stream",
          "name": "stdout",
          "text": [
            "\n",
            "Top layers by gradient norm:\n",
            "encoder.layer.11     Gradient Norm: 0.695750\n",
            "encoder.layer.8      Gradient Norm: 0.464372\n",
            "encoder.layer.10     Gradient Norm: 0.403576\n",
            "encoder.layer.9      Gradient Norm: 0.397600\n",
            "encoder.layer.7      Gradient Norm: 0.317211\n"
          ]
        }
      ]
    },
    {
      "cell_type": "code",
      "source": [
        "import torch\n",
        "from torch import nn\n",
        "from torch.optim import SGD\n",
        "from tqdm import tqdm\n",
        "from copy import deepcopy\n",
        "\n",
        "# Set model to train mode\n",
        "bert_model.train()\n",
        "\n",
        "# Define the layers to unlearn\n",
        "top_layers = ['encoder.layer.11', 'encoder.layer.8', 'encoder.layer.10']\n",
        "\n",
        "# Collect their parameters\n",
        "def get_params(model, layer_names):\n",
        "    return [p for n, p in model.named_parameters() if any(layer in n for layer in layer_names)]\n",
        "\n",
        "params_to_update = get_params(bert_model, top_layers)\n",
        "optimizer = SGD(params_to_update, lr=1e-4)\n",
        "\n",
        "# Number of PCGU steps\n",
        "steps = 10\n",
        "batch_size = 16  # Adjust as needed to fit your memory\n",
        "\n",
        "for step in range(steps):\n",
        "    total_loss = 0.0\n",
        "    optimizer.zero_grad()\n",
        "\n",
        "    # Mini-batching\n",
        "    for i in range(0, len(tokenized_triplets), batch_size):\n",
        "        batch = tokenized_triplets[i:i + batch_size]\n",
        "\n",
        "        for triplet in batch:\n",
        "            embs = []\n",
        "            for pair in ['male_female', 'male_neutral', 'female_neutral']:\n",
        "                inputs = {k: v.to(device) for k, v in triplet[pair].items()}\n",
        "                outputs = bert_model(**inputs)\n",
        "                cls_emb = outputs.last_hidden_state[:, 0, :]\n",
        "                embs.append(cls_emb)\n",
        "\n",
        "            z_mf, z_mn, z_fn = embs\n",
        "            loss = ((z_mf - z_mn).pow(2).mean() + (z_mf - z_fn).pow(2).mean() + (z_fn - z_mn).pow(2).mean()) / 3\n",
        "            loss.backward()\n",
        "            total_loss += loss.item()\n",
        "\n",
        "        optimizer.step()\n",
        "        optimizer.zero_grad()\n",
        "\n",
        "    avg_loss = total_loss / len(tokenized_triplets)\n",
        "    print(f\"Step {step + 1} / {steps} - Avg Loss: {avg_loss:.6f}\")\n"
      ],
      "metadata": {
        "colab": {
          "base_uri": "https://localhost:8080/"
        },
        "id": "kQL3dOmvCyoC",
        "outputId": "ef07826c-1cf5-4f70-df3b-80cf0b1d3820"
      },
      "execution_count": 14,
      "outputs": [
        {
          "output_type": "stream",
          "name": "stdout",
          "text": [
            "Step 1 / 10 - Avg Loss: 0.080701\n",
            "Step 2 / 10 - Avg Loss: 0.078948\n",
            "Step 3 / 10 - Avg Loss: 0.075752\n",
            "Step 4 / 10 - Avg Loss: 0.075856\n",
            "Step 5 / 10 - Avg Loss: 0.074110\n",
            "Step 6 / 10 - Avg Loss: 0.070070\n",
            "Step 7 / 10 - Avg Loss: 0.068806\n",
            "Step 8 / 10 - Avg Loss: 0.067838\n",
            "Step 9 / 10 - Avg Loss: 0.066917\n",
            "Step 10 / 10 - Avg Loss: 0.065017\n"
          ]
        }
      ]
    },
    {
      "cell_type": "code",
      "source": [
        "import torch\n",
        "from tqdm import tqdm\n",
        "\n",
        "bert_model.eval()\n",
        "bias_vectors = []\n",
        "\n",
        "subset_size = 50  # Keep this small for memory safety\n",
        "\n",
        "with torch.no_grad():\n",
        "    for triplet in tqdm(tokenized_triplets[:subset_size], desc=\"Collecting bias vectors\"):\n",
        "        inputs_m = {k: v.to(device) for k, v in triplet['male_female'].items()}\n",
        "        inputs_f = {k: v.to(device) for k, v in triplet['female_neutral'].items()}\n",
        "\n",
        "        z_m = bert_model(**inputs_m).last_hidden_state[:, 0, :]  # CLS token\n",
        "        z_f = bert_model(**inputs_f).last_hidden_state[:, 0, :]\n",
        "\n",
        "        diff = (z_m - z_f).detach().cpu()\n",
        "        bias_vectors.append(diff)\n",
        "\n",
        "# Stack all difference vectors into a matrix [N, 768]\n",
        "bias_matrix = torch.cat(bias_vectors, dim=0)\n",
        "\n",
        "# Perform PCA (via SVD)\n",
        "u, s, v = torch.svd(bias_matrix)\n",
        "k = 1  # number of bias directions to remove\n",
        "bias_basis = v[:, :k]  # [768, k]\n",
        "\n",
        "# Projection matrix: P = I - BB^T\n",
        "I = torch.eye(bias_basis.size(0)).to(bias_basis.device)\n",
        "P = I - bias_basis @ bias_basis.T  # [768, 768]\n",
        "P = P.to(device)\n"
      ],
      "metadata": {
        "colab": {
          "base_uri": "https://localhost:8080/"
        },
        "id": "3YWpdhjvMlzf",
        "outputId": "bce0c1a6-02d2-4ed5-8a20-7d8d3c068ff2"
      },
      "execution_count": 17,
      "outputs": [
        {
          "output_type": "stream",
          "name": "stderr",
          "text": [
            "Collecting bias vectors: 100%|██████████| 50/50 [00:00<00:00, 60.27it/s]\n"
          ]
        }
      ]
    },
    {
      "cell_type": "code",
      "source": [
        "from torch import nn\n",
        "from torch.optim import SGD\n",
        "\n",
        "bert_model.train()\n",
        "\n",
        "top_layers = ['encoder.layer.11', 'encoder.layer.10', 'encoder.layer.8']\n",
        "params_to_update = [p for n, p in bert_model.named_parameters() if any(layer in n for layer in top_layers)]\n",
        "optimizer = SGD(params_to_update, lr=1e-4)\n",
        "\n",
        "steps = 10\n",
        "batch_size = 16\n",
        "\n",
        "for step in range(steps):\n",
        "    total_loss = 0.0\n",
        "    optimizer.zero_grad()\n",
        "\n",
        "    for i in range(0, len(tokenized_triplets), batch_size):\n",
        "        batch = tokenized_triplets[i:i + batch_size]\n",
        "\n",
        "        for triplet in batch:\n",
        "            embs = []\n",
        "            for pair in ['male_female', 'male_neutral', 'female_neutral']:\n",
        "                inputs = {k: v.to(device) for k, v in triplet[pair].items()}\n",
        "                outputs = bert_model(**inputs)\n",
        "                cls_emb = outputs.last_hidden_state[:, 0, :]  # CLS\n",
        "\n",
        "                # Apply projection to remove gender bias\n",
        "                cls_emb_proj = cls_emb @ P\n",
        "                embs.append(cls_emb_proj)\n",
        "\n",
        "            z_mf, z_mn, z_fn = embs\n",
        "            loss = ((z_mf - z_mn).pow(2).mean() +\n",
        "                    (z_mf - z_fn).pow(2).mean() +\n",
        "                    (z_fn - z_mn).pow(2).mean()) / 3\n",
        "\n",
        "            loss.backward()\n",
        "            total_loss += loss.item()\n",
        "\n",
        "        optimizer.step()\n",
        "        optimizer.zero_grad()\n",
        "\n",
        "    avg_loss = total_loss / len(tokenized_triplets)\n",
        "    print(f\"Step {step + 1} / {steps} - Avg Loss: {avg_loss:.6f}\")\n"
      ],
      "metadata": {
        "colab": {
          "base_uri": "https://localhost:8080/"
        },
        "id": "VaDT309PT1z6",
        "outputId": "86ac9e41-d90b-4ad1-a31f-3fcdc6b120eb"
      },
      "execution_count": 18,
      "outputs": [
        {
          "output_type": "stream",
          "name": "stdout",
          "text": [
            "Step 1 / 10 - Avg Loss: 0.061648\n",
            "Step 2 / 10 - Avg Loss: 0.061078\n",
            "Step 3 / 10 - Avg Loss: 0.059184\n",
            "Step 4 / 10 - Avg Loss: 0.058744\n",
            "Step 5 / 10 - Avg Loss: 0.055982\n",
            "Step 6 / 10 - Avg Loss: 0.057516\n",
            "Step 7 / 10 - Avg Loss: 0.055511\n",
            "Step 8 / 10 - Avg Loss: 0.054580\n",
            "Step 9 / 10 - Avg Loss: 0.050731\n",
            "Step 10 / 10 - Avg Loss: 0.051017\n"
          ]
        }
      ]
    },
    {
      "cell_type": "code",
      "source": [
        "with torch.no_grad():\n",
        "    sims = []\n",
        "    for triplet in tokenized_triplets[:20]:\n",
        "        inputs_m = {k: v.to(device) for k, v in triplet['male_female'].items()}\n",
        "        inputs_f = {k: v.to(device) for k, v in triplet['female_neutral'].items()}\n",
        "        z_m = bert_model(**inputs_m).last_hidden_state[:, 0, :] @ P\n",
        "        z_f = bert_model(**inputs_f).last_hidden_state[:, 0, :] @ P\n",
        "        sim = F.cosine_similarity(z_m, z_f, dim=1).mean().item()\n",
        "        sims.append(sim)\n",
        "\n",
        "    print(f\"Avg cosine similarity after unlearning: {sum(sims)/len(sims):.4f}\")\n"
      ],
      "metadata": {
        "colab": {
          "base_uri": "https://localhost:8080/"
        },
        "id": "Xrc5_zCJUqS0",
        "outputId": "4eb8f3bf-b754-4578-a6ad-70f2db60ce19"
      },
      "execution_count": 19,
      "outputs": [
        {
          "output_type": "stream",
          "name": "stdout",
          "text": [
            "Avg cosine similarity after unlearning: 0.9152\n"
          ]
        }
      ]
    },
    {
      "cell_type": "code",
      "source": [
        "with torch.no_grad():\n",
        "    sims_before = []\n",
        "    sims_after = []\n",
        "\n",
        "    for triplet in tokenized_triplets[:20]:\n",
        "        inputs_m = {k: v.to(device) for k, v in triplet['male_female'].items()}\n",
        "        inputs_f = {k: v.to(device) for k, v in triplet['female_neutral'].items()}\n",
        "\n",
        "        z_m = bert_model(**inputs_m).last_hidden_state[:, 0, :]\n",
        "        z_f = bert_model(**inputs_f).last_hidden_state[:, 0, :]\n",
        "\n",
        "        z_m_proj = z_m @ P\n",
        "        z_f_proj = z_f @ P\n",
        "\n",
        "        sim_before = F.cosine_similarity(z_m, z_f, dim=1).mean().item()\n",
        "        sim_after = F.cosine_similarity(z_m_proj, z_f_proj, dim=1).mean().item()\n",
        "\n",
        "        sims_before.append(sim_before)\n",
        "        sims_after.append(sim_after)\n",
        "\n",
        "    print(f\"Before projection: {sum(sims_before)/len(sims_before):.4f}\")\n",
        "    print(f\"After projection : {sum(sims_after)/len(sims_after):.4f}\")\n"
      ],
      "metadata": {
        "colab": {
          "base_uri": "https://localhost:8080/"
        },
        "id": "2b1iaotBVt-0",
        "outputId": "9f339f2c-545b-4807-ce56-79c0b8f9b2d5"
      },
      "execution_count": 20,
      "outputs": [
        {
          "output_type": "stream",
          "name": "stdout",
          "text": [
            "Before projection: 0.9127\n",
            "After projection : 0.9139\n"
          ]
        }
      ]
    },
    {
      "cell_type": "code",
      "source": [
        "from transformers import BertTokenizer, BertForMaskedLM\n",
        "\n",
        "\n",
        "# Load masked language model\n",
        "tokenizer = BertTokenizer.from_pretrained('bert-base-uncased')\n",
        "model = BertForMaskedLM.from_pretrained('bert-base-uncased').to(device)\n",
        "model.eval()\n",
        "\n",
        "# Use softmax on output logits to compute loss\n",
        "def compute_lm_score(sentence):\n",
        "    inputs = tokenizer(sentence, return_tensors=\"pt\").to(device)\n",
        "    with torch.no_grad():\n",
        "        labels = inputs[\"input_ids\"]\n",
        "        outputs = model(**inputs, labels=labels)\n",
        "        loss = outputs.loss\n",
        "        return torch.exp(loss).item()  # Perplexity as LMS proxy\n",
        "\n",
        "ss_scores = []\n",
        "lms_scores = []\n",
        "icat_scores = []\n",
        "\n",
        "for idx, row in tqdm(triplet_df.iterrows(), total=len(triplet_df)):\n",
        "    sent_male = row['male']\n",
        "    sent_female = row['female']\n",
        "    sent_neutral = row['neutral']\n",
        "\n",
        "    # Compute language modeling scores\n",
        "    lm_male = compute_lm_score(sent_male)\n",
        "    lm_female = compute_lm_score(sent_female)\n",
        "    lm_neutral = compute_lm_score(sent_neutral)\n",
        "\n",
        "    # LMS is score of neutral version (or average of all if preferred)\n",
        "    lms = 1 / lm_neutral  # Lower perplexity = better language modeling\n",
        "\n",
        "    # SS measures preference toward stereotyped (lower score means better)\n",
        "    probs = torch.tensor([1 / lm_male, 1 / lm_female])\n",
        "    probs = probs / probs.sum()\n",
        "    ss = probs[0].item()  # how much higher the male variant is preferred\n",
        "\n",
        "    # ICAT\n",
        "    icat = (1 - abs(ss - 0.5)) * lms\n",
        "\n",
        "    ss_scores.append(ss)\n",
        "    lms_scores.append(lms)\n",
        "    icat_scores.append(icat)\n",
        "\n",
        "# Final evaluation\n",
        "print(f\"Avg Stereotype Score (SS): {sum(ss_scores)/len(ss_scores):.4f}\")\n",
        "print(f\"Avg Language Modeling Score (LMS): {sum(lms_scores)/len(lms_scores):.4f}\")\n",
        "print(f\"Avg ICAT Score: {sum(icat_scores)/len(icat_scores):.4f}\")\n"
      ],
      "metadata": {
        "colab": {
          "base_uri": "https://localhost:8080/"
        },
        "id": "0PQAxhh_W14o",
        "outputId": "c88260e7-ca36-4e1d-940e-f1f90c0c6379"
      },
      "execution_count": 21,
      "outputs": [
        {
          "output_type": "stream",
          "name": "stderr",
          "text": [
            "Some weights of the model checkpoint at bert-base-uncased were not used when initializing BertForMaskedLM: ['bert.pooler.dense.bias', 'bert.pooler.dense.weight', 'cls.seq_relationship.bias', 'cls.seq_relationship.weight']\n",
            "- This IS expected if you are initializing BertForMaskedLM from the checkpoint of a model trained on another task or with another architecture (e.g. initializing a BertForSequenceClassification model from a BertForPreTraining model).\n",
            "- This IS NOT expected if you are initializing BertForMaskedLM from the checkpoint of a model that you expect to be exactly identical (initializing a BertForSequenceClassification model from a BertForSequenceClassification model).\n",
            "100%|██████████| 240/240 [00:07<00:00, 30.61it/s]"
          ]
        },
        {
          "output_type": "stream",
          "name": "stdout",
          "text": [
            "Avg Stereotype Score (SS): 0.5030\n",
            "Avg Language Modeling Score (LMS): 0.1554\n",
            "Avg ICAT Score: 0.1539\n"
          ]
        },
        {
          "output_type": "stream",
          "name": "stderr",
          "text": [
            "\n"
          ]
        }
      ]
    },
    {
      "cell_type": "code",
      "source": [
        "\n",
        "bert_model.eval()\n",
        "\n",
        "ss_scores = []\n",
        "lms_scores = []\n",
        "icat_scores = []\n",
        "\n",
        "for idx, row in tqdm(triplet_df.iterrows(), total=len(triplet_df)):\n",
        "    sent_male = row['male']\n",
        "    sent_female = row['female']\n",
        "    sent_neutral = row['neutral']\n",
        "\n",
        "    # Tokenize\n",
        "    tokens_m = tokenizer(sent_male, return_tensors='pt', padding=True, truncation=True, max_length=128).to(device)\n",
        "    tokens_f = tokenizer(sent_female, return_tensors='pt', padding=True, truncation=True, max_length=128).to(device)\n",
        "    tokens_n = tokenizer(sent_neutral, return_tensors='pt', padding=True, truncation=True, max_length=128).to(device)\n",
        "\n",
        "    # CLS embeddings\n",
        "    with torch.no_grad():\n",
        "        z_m = bert_model(**tokens_m).last_hidden_state[:, 0, :] @ P\n",
        "        z_f = bert_model(**tokens_f).last_hidden_state[:, 0, :] @ P\n",
        "        z_n = bert_model(**tokens_n).last_hidden_state[:, 0, :] @ P\n",
        "\n",
        "    # Cosine similarities\n",
        "    sim_mn = F.cosine_similarity(z_m, z_n).item()\n",
        "    sim_fn = F.cosine_similarity(z_f, z_n).item()\n",
        "\n",
        "    # Stereotype score (ideal = 0.5)\n",
        "    ss = sim_mn / (sim_mn + sim_fn + 1e-8)\n",
        "\n",
        "    # LMS proxy: avg similarity to neutral\n",
        "    lms = (sim_mn + sim_fn) / 2\n",
        "\n",
        "    # ICAT\n",
        "    icat = (1 - abs(ss - 0.5)) * lms\n",
        "\n",
        "    ss_scores.append(ss)\n",
        "    lms_scores.append(lms)\n",
        "    icat_scores.append(icat)\n",
        "\n",
        "# Final averages\n",
        "print(f\"\\n[Evaluation of BERT-PCGU]\")\n",
        "print(f\"Avg Stereotype Score (SS): {sum(ss_scores)/len(ss_scores):.4f}\")\n",
        "print(f\"Avg Language Modeling Score (LMS): {sum(lms_scores)/len(lms_scores):.4f}\")\n",
        "print(f\"Avg ICAT Score: {sum(icat_scores)/len(icat_scores):.4f}\")\n"
      ],
      "metadata": {
        "colab": {
          "base_uri": "https://localhost:8080/"
        },
        "id": "4lgxnVnvXUlG",
        "outputId": "4739c861-ec5b-4eeb-c369-f0eef73a8933"
      },
      "execution_count": 22,
      "outputs": [
        {
          "output_type": "stream",
          "name": "stderr",
          "text": [
            "100%|██████████| 240/240 [00:07<00:00, 32.97it/s]"
          ]
        },
        {
          "output_type": "stream",
          "name": "stdout",
          "text": [
            "\n",
            "[Evaluation of BERT-PCGU]\n",
            "Avg Stereotype Score (SS): 0.5009\n",
            "Avg Language Modeling Score (LMS): 0.9951\n",
            "Avg ICAT Score: 0.9942\n"
          ]
        },
        {
          "output_type": "stream",
          "name": "stderr",
          "text": [
            "\n"
          ]
        }
      ]
    },
    {
      "cell_type": "code",
      "source": [
        "import numpy as np\n",
        "import matplotlib.pyplot as plt\n",
        "\n",
        "\n",
        "# Metric labels\n",
        "metrics = ['SS', 'LMS', 'ICAT']\n",
        "\n",
        "# Actual values\n",
        "before = [0.9127, 0.1554, 0.1539]\n",
        "after  = [0.5009, 0.9951, 0.9942]\n",
        "\n",
        "x = np.arange(len(metrics))  # [0, 1, 2]\n",
        "width = 0.35\n",
        "\n",
        "# Plot\n",
        "fig, ax = plt.subplots(figsize=(7, 5))\n",
        "bars1 = ax.bar(x - width/2, before, width, label='Before PCGU', color='gray')\n",
        "bars2 = ax.bar(x + width/2, after, width, label='After PCGU', color='blue')\n",
        "\n",
        "# Labels and layout\n",
        "ax.set_ylabel('Score')\n",
        "ax.set_title('BERT vs PCGU-BERT: Bias and Performance Metrics')\n",
        "ax.set_xticks(x)\n",
        "ax.set_xticklabels(metrics)\n",
        "ax.set_ylim(0, 1.1)\n",
        "ax.legend()\n",
        "ax.grid(axis='y', linestyle='--', alpha=0.5)\n",
        "\n",
        "# Add value annotations\n",
        "for bar_group in [bars1, bars2]:\n",
        "    for bar in bar_group:\n",
        "        height = bar.get_height()\n",
        "        ax.text(bar.get_x() + bar.get_width()/2, height + 0.02,\n",
        "                f'{height:.3f}', ha='center', fontsize=9)\n",
        "\n",
        "plt.tight_layout()\n",
        "plt.show()\n"
      ],
      "metadata": {
        "colab": {
          "base_uri": "https://localhost:8080/",
          "height": 507
        },
        "id": "psdiPuc3Y9yJ",
        "outputId": "7c03cc37-7033-4b3b-b1cc-17f83d69a451"
      },
      "execution_count": 25,
      "outputs": [
        {
          "output_type": "display_data",
          "data": {
            "text/plain": [
              "<Figure size 700x500 with 1 Axes>"
            ],
            "image/png": "[encoded data removed]"
          },
          "metadata": {}
        }
      ]
    },
    {
      "cell_type": "code",
      "source": [
        "import torch\n",
        "import torch.nn.functional as F\n",
        "\n",
        "def score_pronoun_variants(template: str, context: str = \"The person is a doctor.\"):\n",
        "    variants = [\"he\", \"she\", \"they\"]\n",
        "    sentences = [template.replace(\"[PRONOUN]\", p) for p in variants]\n",
        "\n",
        "    # Tokenize context\n",
        "    ref_input = tokenizer(context, return_tensors='pt', truncation=True, padding=True).to(device)\n",
        "    with torch.no_grad():\n",
        "        ref_emb = bert_model(**ref_input).last_hidden_state[:, 0, :] @ P\n",
        "\n",
        "    print(f\"\\nContext: {context}\")\n",
        "    for pronoun, sent in zip(variants, sentences):\n",
        "        inputs = tokenizer(sent, return_tensors='pt', truncation=True, padding=True).to(device)\n",
        "        with torch.no_grad():\n",
        "            emb = bert_model(**inputs).last_hidden_state[:, 0, :] @ P\n",
        "            sim = F.cosine_similarity(ref_emb, emb).item()\n",
        "            print(f\"{pronoun:<5} → {sent:<40} Cosine similarity: {sim:.4f}\")\n",
        "\n",
        "# Example usage\n",
        "score_pronoun_variants(\"[PRONOUN] is a doctor.\")\n",
        "score_pronoun_variants(\"[PRONOUN] stayed home to take care of the kids.\")\n",
        "score_pronoun_variants(\"[PRONOUN] solved the equation.\")\n"
      ],
      "metadata": {
        "colab": {
          "base_uri": "https://localhost:8080/"
        },
        "id": "M4fCFaLXgDzK",
        "outputId": "28ff413e-7e39-497e-f2dd-fc21695e9f36"
      },
      "execution_count": 32,
      "outputs": [
        {
          "output_type": "stream",
          "name": "stdout",
          "text": [
            "\n",
            "Context: The person is a doctor.\n",
            "he    → he is a doctor.                          Cosine similarity: 0.9276\n",
            "she   → she is a doctor.                         Cosine similarity: 0.9331\n",
            "they  → they is a doctor.                        Cosine similarity: 0.9563\n",
            "\n",
            "Context: The person is a doctor.\n",
            "he    → he stayed home to take care of the kids. Cosine similarity: 0.8638\n",
            "she   → she stayed home to take care of the kids. Cosine similarity: 0.8670\n",
            "they  → they stayed home to take care of the kids. Cosine similarity: 0.8871\n",
            "\n",
            "Context: The person is a doctor.\n",
            "he    → he solved the equation.                  Cosine similarity: 0.9140\n",
            "she   → she solved the equation.                 Cosine similarity: 0.9221\n",
            "they  → they solved the equation.                Cosine similarity: 0.9261\n"
          ]
        }
      ]
    }
  ]
}